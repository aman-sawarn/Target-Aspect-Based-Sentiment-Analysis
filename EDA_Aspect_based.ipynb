{
 "cells": [
  {
   "cell_type": "code",
   "execution_count": 1,
   "metadata": {},
   "outputs": [],
   "source": [
    "import json\n",
    "import pandas as pd\n",
    "import matplotlib.pyplot as plt\n",
    "import numpy as np"
   ]
  },
  {
   "cell_type": "code",
   "execution_count": 2,
   "metadata": {},
   "outputs": [],
   "source": [
    "with open(r'F:\\ABSA-BERT-pair-master\\data\\sentihood\\sentihood-train.json') as f:\n",
    "    data = json.load(f)"
   ]
  },
  {
   "cell_type": "code",
   "execution_count": 3,
   "metadata": {},
   "outputs": [
    {
     "data": {
      "text/plain": [
       "{'opinions': [{'sentiment': 'Positive',\n",
       "   'aspect': 'nightlife',\n",
       "   'target_entity': 'LOCATION1'},\n",
       "  {'sentiment': 'Positive',\n",
       "   'aspect': 'transit-location',\n",
       "   'target_entity': 'LOCATION1'}],\n",
       " 'id': 209,\n",
       " 'text': '  Another option is LOCATION1 which is very central and has tons of clubs/bars within walking distance of each other'}"
      ]
     },
     "execution_count": 3,
     "metadata": {},
     "output_type": "execute_result"
    }
   ],
   "source": [
    "data[3]"
   ]
  },
  {
   "cell_type": "code",
   "execution_count": 64,
   "metadata": {},
   "outputs": [],
   "source": [
    "with open(r'F:\\ABSA-BERT-pair-master\\data\\sentihood\\sentihood-train.json') as f:\n",
    "    data = json.load(f)\n",
    "    ret = []\n",
    "    for d in data:\n",
    "        text = d['text']\n",
    "        \n",
    "        sent_id = d['id']\n",
    "        opinions = []\n",
    "        targets = set()\n",
    "        for opinion in d['opinions']:\n",
    "            sentiment = opinion['sentiment']\n",
    "            aspect = opinion['aspect']\n",
    "            target_entity = opinion['target_entity']\n",
    "            targets.add(target_entity)\n",
    "            opinions.append((target_entity, aspect, sentiment))\n",
    "        ret.append((sent_id, text, opinions))"
   ]
  },
  {
   "cell_type": "code",
   "execution_count": 65,
   "metadata": {},
   "outputs": [
    {
     "data": {
      "text/plain": [
       "2977"
      ]
     },
     "execution_count": 65,
     "metadata": {},
     "output_type": "execute_result"
    }
   ],
   "source": [
    "len(ret)"
   ]
  },
  {
   "cell_type": "code",
   "execution_count": 66,
   "metadata": {},
   "outputs": [],
   "source": [
    "df=pd.DataFrame(ret, columns=[\"id\", \"text\", \"sentiment\"])\n"
   ]
  },
  {
   "cell_type": "code",
   "execution_count": 67,
   "metadata": {},
   "outputs": [
    {
     "data": {
      "text/plain": [
       "(2977, 3)"
      ]
     },
     "execution_count": 67,
     "metadata": {},
     "output_type": "execute_result"
    }
   ],
   "source": [
    "df.shape"
   ]
  },
  {
   "cell_type": "code",
   "execution_count": 68,
   "metadata": {},
   "outputs": [
    {
     "data": {
      "text/html": [
       "<div>\n",
       "<style scoped>\n",
       "    .dataframe tbody tr th:only-of-type {\n",
       "        vertical-align: middle;\n",
       "    }\n",
       "\n",
       "    .dataframe tbody tr th {\n",
       "        vertical-align: top;\n",
       "    }\n",
       "\n",
       "    .dataframe thead th {\n",
       "        text-align: right;\n",
       "    }\n",
       "</style>\n",
       "<table border=\"1\" class=\"dataframe\">\n",
       "  <thead>\n",
       "    <tr style=\"text-align: right;\">\n",
       "      <th></th>\n",
       "      <th>id</th>\n",
       "      <th>text</th>\n",
       "      <th>sentiment</th>\n",
       "    </tr>\n",
       "  </thead>\n",
       "  <tbody>\n",
       "    <tr>\n",
       "      <th>0</th>\n",
       "      <td>1430</td>\n",
       "      <td>LOCATION1 is transforming and the prices w...</td>\n",
       "      <td>[(LOCATION1, price, Negative)]</td>\n",
       "    </tr>\n",
       "    <tr>\n",
       "      <th>1</th>\n",
       "      <td>2013</td>\n",
       "      <td>Along LOCATION1 there are lots of Electronic...</td>\n",
       "      <td>[(LOCATION1, shopping, Positive)]</td>\n",
       "    </tr>\n",
       "    <tr>\n",
       "      <th>2</th>\n",
       "      <td>1244</td>\n",
       "      <td>And LOCATION1 is ten mins direct on the tube...</td>\n",
       "      <td>[(LOCATION1, transit-location, Positive)]</td>\n",
       "    </tr>\n",
       "    <tr>\n",
       "      <th>3</th>\n",
       "      <td>209</td>\n",
       "      <td>Another option is LOCATION1 which is very ce...</td>\n",
       "      <td>[(LOCATION1, nightlife, Positive), (LOCATION1,...</td>\n",
       "    </tr>\n",
       "    <tr>\n",
       "      <th>4</th>\n",
       "      <td>2824</td>\n",
       "      <td>Best bet is around LOCATION2 and LOCATION1 a...</td>\n",
       "      <td>[(LOCATION1, general, Positive), (LOCATION2, g...</td>\n",
       "    </tr>\n",
       "  </tbody>\n",
       "</table>\n",
       "</div>"
      ],
      "text/plain": [
       "     id                                               text  \\\n",
       "0  1430      LOCATION1 is transforming and the prices w...   \n",
       "1  2013    Along LOCATION1 there are lots of Electronic...   \n",
       "2  1244    And LOCATION1 is ten mins direct on the tube...   \n",
       "3   209    Another option is LOCATION1 which is very ce...   \n",
       "4  2824    Best bet is around LOCATION2 and LOCATION1 a...   \n",
       "\n",
       "                                           sentiment  \n",
       "0                     [(LOCATION1, price, Negative)]  \n",
       "1                  [(LOCATION1, shopping, Positive)]  \n",
       "2          [(LOCATION1, transit-location, Positive)]  \n",
       "3  [(LOCATION1, nightlife, Positive), (LOCATION1,...  \n",
       "4  [(LOCATION1, general, Positive), (LOCATION2, g...  "
      ]
     },
     "execution_count": 68,
     "metadata": {},
     "output_type": "execute_result"
    }
   ],
   "source": [
    "df.head()\n"
   ]
  },
  {
   "cell_type": "code",
   "execution_count": 69,
   "metadata": {},
   "outputs": [
    {
     "data": {
      "text/plain": [
       "[('LOCATION1', 'nightlife', 'Positive'),\n",
       " ('LOCATION1', 'transit-location', 'Positive')]"
      ]
     },
     "execution_count": 69,
     "metadata": {},
     "output_type": "execute_result"
    }
   ],
   "source": [
    "df['sentiment'][3]"
   ]
  },
  {
   "cell_type": "code",
   "execution_count": 70,
   "metadata": {},
   "outputs": [],
   "source": [
    "text_id=[]\n",
    "text=[]\n",
    "sentiments=[]\n",
    "for i in range(len(df)):\n",
    "    len_present=len(df['sentiment'][i])\n",
    "    for j in range(len_present):\n",
    "        text_id.append(df['id'][i])\n",
    "        text.append(df['text'][i])\n",
    "        sentiments.append(df['sentiment'][i][j])"
   ]
  },
  {
   "cell_type": "code",
   "execution_count": 71,
   "metadata": {},
   "outputs": [
    {
     "data": {
      "text/plain": [
       "3396"
      ]
     },
     "execution_count": 71,
     "metadata": {},
     "output_type": "execute_result"
    }
   ],
   "source": [
    "len(sentiments)"
   ]
  },
  {
   "cell_type": "code",
   "execution_count": 72,
   "metadata": {},
   "outputs": [],
   "source": [
    "df=pd.DataFrame({\"id\":text_id, \"text\":text, \"sentiment\":sentiments})"
   ]
  },
  {
   "cell_type": "code",
   "execution_count": 73,
   "metadata": {},
   "outputs": [
    {
     "data": {
      "text/html": [
       "<div>\n",
       "<style scoped>\n",
       "    .dataframe tbody tr th:only-of-type {\n",
       "        vertical-align: middle;\n",
       "    }\n",
       "\n",
       "    .dataframe tbody tr th {\n",
       "        vertical-align: top;\n",
       "    }\n",
       "\n",
       "    .dataframe thead th {\n",
       "        text-align: right;\n",
       "    }\n",
       "</style>\n",
       "<table border=\"1\" class=\"dataframe\">\n",
       "  <thead>\n",
       "    <tr style=\"text-align: right;\">\n",
       "      <th></th>\n",
       "      <th>id</th>\n",
       "      <th>text</th>\n",
       "      <th>sentiment</th>\n",
       "    </tr>\n",
       "  </thead>\n",
       "  <tbody>\n",
       "    <tr>\n",
       "      <th>0</th>\n",
       "      <td>1430</td>\n",
       "      <td>LOCATION1 is transforming and the prices w...</td>\n",
       "      <td>(LOCATION1, price, Negative)</td>\n",
       "    </tr>\n",
       "    <tr>\n",
       "      <th>1</th>\n",
       "      <td>2013</td>\n",
       "      <td>Along LOCATION1 there are lots of Electronic...</td>\n",
       "      <td>(LOCATION1, shopping, Positive)</td>\n",
       "    </tr>\n",
       "    <tr>\n",
       "      <th>2</th>\n",
       "      <td>1244</td>\n",
       "      <td>And LOCATION1 is ten mins direct on the tube...</td>\n",
       "      <td>(LOCATION1, transit-location, Positive)</td>\n",
       "    </tr>\n",
       "    <tr>\n",
       "      <th>3</th>\n",
       "      <td>209</td>\n",
       "      <td>Another option is LOCATION1 which is very ce...</td>\n",
       "      <td>(LOCATION1, nightlife, Positive)</td>\n",
       "    </tr>\n",
       "    <tr>\n",
       "      <th>4</th>\n",
       "      <td>209</td>\n",
       "      <td>Another option is LOCATION1 which is very ce...</td>\n",
       "      <td>(LOCATION1, transit-location, Positive)</td>\n",
       "    </tr>\n",
       "    <tr>\n",
       "      <th>5</th>\n",
       "      <td>2824</td>\n",
       "      <td>Best bet is around LOCATION2 and LOCATION1 a...</td>\n",
       "      <td>(LOCATION1, general, Positive)</td>\n",
       "    </tr>\n",
       "    <tr>\n",
       "      <th>6</th>\n",
       "      <td>2824</td>\n",
       "      <td>Best bet is around LOCATION2 and LOCATION1 a...</td>\n",
       "      <td>(LOCATION2, general, Positive)</td>\n",
       "    </tr>\n",
       "    <tr>\n",
       "      <th>7</th>\n",
       "      <td>1835</td>\n",
       "      <td>Central London based taxis mostly refuse far...</td>\n",
       "      <td>(LOCATION1, transit-location, Negative)</td>\n",
       "    </tr>\n",
       "    <tr>\n",
       "      <th>8</th>\n",
       "      <td>1429</td>\n",
       "      <td>Don't go looking at places like LOCATION1  n...</td>\n",
       "      <td>(LOCATION1, general, Negative)</td>\n",
       "    </tr>\n",
       "    <tr>\n",
       "      <th>9</th>\n",
       "      <td>1429</td>\n",
       "      <td>Don't go looking at places like LOCATION1  n...</td>\n",
       "      <td>(LOCATION1, live, Negative)</td>\n",
       "    </tr>\n",
       "  </tbody>\n",
       "</table>\n",
       "</div>"
      ],
      "text/plain": [
       "     id                                               text  \\\n",
       "0  1430      LOCATION1 is transforming and the prices w...   \n",
       "1  2013    Along LOCATION1 there are lots of Electronic...   \n",
       "2  1244    And LOCATION1 is ten mins direct on the tube...   \n",
       "3   209    Another option is LOCATION1 which is very ce...   \n",
       "4   209    Another option is LOCATION1 which is very ce...   \n",
       "5  2824    Best bet is around LOCATION2 and LOCATION1 a...   \n",
       "6  2824    Best bet is around LOCATION2 and LOCATION1 a...   \n",
       "7  1835    Central London based taxis mostly refuse far...   \n",
       "8  1429    Don't go looking at places like LOCATION1  n...   \n",
       "9  1429    Don't go looking at places like LOCATION1  n...   \n",
       "\n",
       "                                 sentiment  \n",
       "0             (LOCATION1, price, Negative)  \n",
       "1          (LOCATION1, shopping, Positive)  \n",
       "2  (LOCATION1, transit-location, Positive)  \n",
       "3         (LOCATION1, nightlife, Positive)  \n",
       "4  (LOCATION1, transit-location, Positive)  \n",
       "5           (LOCATION1, general, Positive)  \n",
       "6           (LOCATION2, general, Positive)  \n",
       "7  (LOCATION1, transit-location, Negative)  \n",
       "8           (LOCATION1, general, Negative)  \n",
       "9              (LOCATION1, live, Negative)  "
      ]
     },
     "execution_count": 73,
     "metadata": {},
     "output_type": "execute_result"
    }
   ],
   "source": [
    "df.head(10)"
   ]
  },
  {
   "cell_type": "code",
   "execution_count": 74,
   "metadata": {},
   "outputs": [],
   "source": [
    "df['location']=df['sentiment'].apply(lambda x: x[0])\n",
    "df['aspect']=df['sentiment'].apply(lambda x: x[1])\n",
    "df['polarity']=df['sentiment'].apply(lambda x: x[2])\n",
    "# df['len_sent']=df['sentiment'].apply(lambda x: len(x))"
   ]
  },
  {
   "cell_type": "code",
   "execution_count": 75,
   "metadata": {},
   "outputs": [
    {
     "data": {
      "text/html": [
       "<div>\n",
       "<style scoped>\n",
       "    .dataframe tbody tr th:only-of-type {\n",
       "        vertical-align: middle;\n",
       "    }\n",
       "\n",
       "    .dataframe tbody tr th {\n",
       "        vertical-align: top;\n",
       "    }\n",
       "\n",
       "    .dataframe thead th {\n",
       "        text-align: right;\n",
       "    }\n",
       "</style>\n",
       "<table border=\"1\" class=\"dataframe\">\n",
       "  <thead>\n",
       "    <tr style=\"text-align: right;\">\n",
       "      <th></th>\n",
       "      <th>id</th>\n",
       "      <th>text</th>\n",
       "      <th>sentiment</th>\n",
       "      <th>location</th>\n",
       "      <th>aspect</th>\n",
       "      <th>polarity</th>\n",
       "    </tr>\n",
       "  </thead>\n",
       "  <tbody>\n",
       "    <tr>\n",
       "      <th>0</th>\n",
       "      <td>1430</td>\n",
       "      <td>LOCATION1 is transforming and the prices w...</td>\n",
       "      <td>(LOCATION1, price, Negative)</td>\n",
       "      <td>LOCATION1</td>\n",
       "      <td>price</td>\n",
       "      <td>Negative</td>\n",
       "    </tr>\n",
       "    <tr>\n",
       "      <th>1</th>\n",
       "      <td>2013</td>\n",
       "      <td>Along LOCATION1 there are lots of Electronic...</td>\n",
       "      <td>(LOCATION1, shopping, Positive)</td>\n",
       "      <td>LOCATION1</td>\n",
       "      <td>shopping</td>\n",
       "      <td>Positive</td>\n",
       "    </tr>\n",
       "    <tr>\n",
       "      <th>2</th>\n",
       "      <td>1244</td>\n",
       "      <td>And LOCATION1 is ten mins direct on the tube...</td>\n",
       "      <td>(LOCATION1, transit-location, Positive)</td>\n",
       "      <td>LOCATION1</td>\n",
       "      <td>transit-location</td>\n",
       "      <td>Positive</td>\n",
       "    </tr>\n",
       "    <tr>\n",
       "      <th>3</th>\n",
       "      <td>209</td>\n",
       "      <td>Another option is LOCATION1 which is very ce...</td>\n",
       "      <td>(LOCATION1, nightlife, Positive)</td>\n",
       "      <td>LOCATION1</td>\n",
       "      <td>nightlife</td>\n",
       "      <td>Positive</td>\n",
       "    </tr>\n",
       "    <tr>\n",
       "      <th>4</th>\n",
       "      <td>209</td>\n",
       "      <td>Another option is LOCATION1 which is very ce...</td>\n",
       "      <td>(LOCATION1, transit-location, Positive)</td>\n",
       "      <td>LOCATION1</td>\n",
       "      <td>transit-location</td>\n",
       "      <td>Positive</td>\n",
       "    </tr>\n",
       "    <tr>\n",
       "      <th>5</th>\n",
       "      <td>2824</td>\n",
       "      <td>Best bet is around LOCATION2 and LOCATION1 a...</td>\n",
       "      <td>(LOCATION1, general, Positive)</td>\n",
       "      <td>LOCATION1</td>\n",
       "      <td>general</td>\n",
       "      <td>Positive</td>\n",
       "    </tr>\n",
       "    <tr>\n",
       "      <th>6</th>\n",
       "      <td>2824</td>\n",
       "      <td>Best bet is around LOCATION2 and LOCATION1 a...</td>\n",
       "      <td>(LOCATION2, general, Positive)</td>\n",
       "      <td>LOCATION2</td>\n",
       "      <td>general</td>\n",
       "      <td>Positive</td>\n",
       "    </tr>\n",
       "    <tr>\n",
       "      <th>7</th>\n",
       "      <td>1835</td>\n",
       "      <td>Central London based taxis mostly refuse far...</td>\n",
       "      <td>(LOCATION1, transit-location, Negative)</td>\n",
       "      <td>LOCATION1</td>\n",
       "      <td>transit-location</td>\n",
       "      <td>Negative</td>\n",
       "    </tr>\n",
       "    <tr>\n",
       "      <th>8</th>\n",
       "      <td>1429</td>\n",
       "      <td>Don't go looking at places like LOCATION1  n...</td>\n",
       "      <td>(LOCATION1, general, Negative)</td>\n",
       "      <td>LOCATION1</td>\n",
       "      <td>general</td>\n",
       "      <td>Negative</td>\n",
       "    </tr>\n",
       "    <tr>\n",
       "      <th>9</th>\n",
       "      <td>1429</td>\n",
       "      <td>Don't go looking at places like LOCATION1  n...</td>\n",
       "      <td>(LOCATION1, live, Negative)</td>\n",
       "      <td>LOCATION1</td>\n",
       "      <td>live</td>\n",
       "      <td>Negative</td>\n",
       "    </tr>\n",
       "  </tbody>\n",
       "</table>\n",
       "</div>"
      ],
      "text/plain": [
       "     id                                               text  \\\n",
       "0  1430      LOCATION1 is transforming and the prices w...   \n",
       "1  2013    Along LOCATION1 there are lots of Electronic...   \n",
       "2  1244    And LOCATION1 is ten mins direct on the tube...   \n",
       "3   209    Another option is LOCATION1 which is very ce...   \n",
       "4   209    Another option is LOCATION1 which is very ce...   \n",
       "5  2824    Best bet is around LOCATION2 and LOCATION1 a...   \n",
       "6  2824    Best bet is around LOCATION2 and LOCATION1 a...   \n",
       "7  1835    Central London based taxis mostly refuse far...   \n",
       "8  1429    Don't go looking at places like LOCATION1  n...   \n",
       "9  1429    Don't go looking at places like LOCATION1  n...   \n",
       "\n",
       "                                 sentiment   location            aspect  \\\n",
       "0             (LOCATION1, price, Negative)  LOCATION1             price   \n",
       "1          (LOCATION1, shopping, Positive)  LOCATION1          shopping   \n",
       "2  (LOCATION1, transit-location, Positive)  LOCATION1  transit-location   \n",
       "3         (LOCATION1, nightlife, Positive)  LOCATION1         nightlife   \n",
       "4  (LOCATION1, transit-location, Positive)  LOCATION1  transit-location   \n",
       "5           (LOCATION1, general, Positive)  LOCATION1           general   \n",
       "6           (LOCATION2, general, Positive)  LOCATION2           general   \n",
       "7  (LOCATION1, transit-location, Negative)  LOCATION1  transit-location   \n",
       "8           (LOCATION1, general, Negative)  LOCATION1           general   \n",
       "9              (LOCATION1, live, Negative)  LOCATION1              live   \n",
       "\n",
       "   polarity  \n",
       "0  Negative  \n",
       "1  Positive  \n",
       "2  Positive  \n",
       "3  Positive  \n",
       "4  Positive  \n",
       "5  Positive  \n",
       "6  Positive  \n",
       "7  Negative  \n",
       "8  Negative  \n",
       "9  Negative  "
      ]
     },
     "execution_count": 75,
     "metadata": {},
     "output_type": "execute_result"
    }
   ],
   "source": [
    "df.head(10)"
   ]
  },
  {
   "cell_type": "code",
   "execution_count": 76,
   "metadata": {},
   "outputs": [
    {
     "data": {
      "text/plain": [
       "general             1180\n",
       "price                500\n",
       "transit-location     428\n",
       "safety               352\n",
       "live                 221\n",
       "nightlife            158\n",
       "shopping             143\n",
       "multicultural        123\n",
       "green-nature          95\n",
       "dining                93\n",
       "quiet                 54\n",
       "touristy              49\n",
       "Name: aspect, dtype: int64"
      ]
     },
     "execution_count": 76,
     "metadata": {},
     "output_type": "execute_result"
    }
   ],
   "source": [
    "df['aspect'].value_counts()"
   ]
  },
  {
   "cell_type": "code",
   "execution_count": 35,
   "metadata": {},
   "outputs": [
    {
     "data": {
      "text/plain": [
       "<matplotlib.axes._subplots.AxesSubplot at 0x1dad19e9cf8>"
      ]
     },
     "execution_count": 35,
     "metadata": {},
     "output_type": "execute_result"
    },
    {
     "data": {
      "image/png": "[encoded data removed]",
      "text/plain": [
       "<Figure size 432x288 with 1 Axes>"
      ]
     },
     "metadata": {},
     "output_type": "display_data"
    }
   ],
   "source": [
    "df['aspect'].value_counts().plot.bar()"
   ]
  },
  {
   "cell_type": "code",
   "execution_count": 36,
   "metadata": {},
   "outputs": [
    {
     "data": {
      "text/plain": [
       "<matplotlib.axes._subplots.AxesSubplot at 0x1dad1b845f8>"
      ]
     },
     "execution_count": 36,
     "metadata": {},
     "output_type": "execute_result"
    },
    {
     "data": {
      "image/png": "[encoded data removed]",
      "text/plain": [
       "<Figure size 432x288 with 1 Axes>"
      ]
     },
     "metadata": {},
     "output_type": "display_data"
    }
   ],
   "source": [
    "df['location'].value_counts().plot.bar()"
   ]
  },
  {
   "cell_type": "code",
   "execution_count": 37,
   "metadata": {},
   "outputs": [
    {
     "data": {
      "text/plain": [
       "12"
      ]
     },
     "execution_count": 37,
     "metadata": {},
     "output_type": "execute_result"
    }
   ],
   "source": [
    "len(list(set(df['aspect'])))"
   ]
  },
  {
   "cell_type": "markdown",
   "metadata": {},
   "source": [
    "### Dev Set"
   ]
  },
  {
   "cell_type": "code",
   "execution_count": 38,
   "metadata": {},
   "outputs": [
    {
     "name": "stdout",
     "output_type": "stream",
     "text": [
      "df shape from json:  (747, 3)\n",
      "df shape after distinguishing dev set :  (838, 6)\n"
     ]
    }
   ],
   "source": [
    "with open(r'F:\\ABSA-BERT-pair-master\\data\\sentihood\\sentihood-dev.json') as f:\n",
    "    data = json.load(f)\n",
    "    ret = []\n",
    "    for d in data:\n",
    "        text = d['text']\n",
    "        sent_id = d['id']\n",
    "        opinions = []\n",
    "        targets = set()\n",
    "        for opinion in d['opinions']:\n",
    "            sentiment = opinion['sentiment']\n",
    "            aspect = opinion['aspect']\n",
    "            target_entity = opinion['target_entity']\n",
    "            targets.add(target_entity)\n",
    "            opinions.append((target_entity, aspect, sentiment))\n",
    "        ret.append((sent_id, text, opinions))\n",
    "        \n",
    "        \n",
    "df=pd.DataFrame(ret, columns=[\"id\", \"text\", \"sentiment\"])\n",
    "\n",
    "print(\"df shape from json: \", df.shape)\n",
    "\n",
    "text_id=[]\n",
    "text=[]\n",
    "sentiments=[]\n",
    "for i in range(len(df)):\n",
    "    len_present=len(df['sentiment'][i])\n",
    "    for j in range(len_present):\n",
    "        text_id.append(df['id'][i])\n",
    "        text.append(df['text'][i])\n",
    "        sentiments.append(df['sentiment'][i][j])\n",
    "\n",
    "dev=pd.DataFrame({\"id\":text_id, \"text\":text, \"sentiment\":sentiments})\n",
    "dev['location']=dev['sentiment'].apply(lambda x: x[0])\n",
    "dev['aspect']=dev['sentiment'].apply(lambda x: x[1])\n",
    "dev['polarity']=dev['sentiment'].apply(lambda x: x[2])\n",
    "print(\"df shape after distinguishing dev set : \", dev.shape)"
   ]
  },
  {
   "cell_type": "code",
   "execution_count": 39,
   "metadata": {},
   "outputs": [
    {
     "data": {
      "text/plain": [
       "<matplotlib.axes._subplots.AxesSubplot at 0x1dad1ed4940>"
      ]
     },
     "execution_count": 39,
     "metadata": {},
     "output_type": "execute_result"
    },
    {
     "data": {
      "image/png": "[encoded data removed]",
      "text/plain": [
       "<Figure size 432x288 with 1 Axes>"
      ]
     },
     "metadata": {},
     "output_type": "display_data"
    }
   ],
   "source": [
    "dev['aspect'].value_counts().plot.bar()"
   ]
  },
  {
   "cell_type": "code",
   "execution_count": 40,
   "metadata": {},
   "outputs": [
    {
     "data": {
      "text/plain": [
       "<matplotlib.axes._subplots.AxesSubplot at 0x1dad1c39400>"
      ]
     },
     "execution_count": 40,
     "metadata": {},
     "output_type": "execute_result"
    },
    {
     "data": {
      "image/png": "[encoded data removed]",
      "text/plain": [
       "<Figure size 432x288 with 1 Axes>"
      ]
     },
     "metadata": {},
     "output_type": "display_data"
    }
   ],
   "source": [
    "dev['location'].value_counts().plot.bar()"
   ]
  },
  {
   "cell_type": "code",
   "execution_count": 42,
   "metadata": {},
   "outputs": [
    {
     "data": {
      "text/plain": [
       "Positive    615\n",
       "Negative    223\n",
       "Name: polarity, dtype: int64"
      ]
     },
     "execution_count": 42,
     "metadata": {},
     "output_type": "execute_result"
    }
   ],
   "source": [
    "dev['polarity'].value_counts()"
   ]
  },
  {
   "cell_type": "code",
   "execution_count": 43,
   "metadata": {},
   "outputs": [
    {
     "name": "stdout",
     "output_type": "stream",
     "text": [
      "df shape from json:  (1491, 3)\n",
      "df shape after distinguishing dev set :  (1677, 6)\n"
     ]
    }
   ],
   "source": [
    "with open(r'F:\\ABSA-BERT-pair-master\\data\\sentihood\\sentihood-test.json') as f:\n",
    "    data = json.load(f)\n",
    "    ret = []\n",
    "    for d in data:\n",
    "        text = d['text']\n",
    "        sent_id = d['id']\n",
    "        opinions = []\n",
    "        targets = set()\n",
    "        for opinion in d['opinions']:\n",
    "            sentiment = opinion['sentiment']\n",
    "            aspect = opinion['aspect']\n",
    "            target_entity = opinion['target_entity']\n",
    "            targets.add(target_entity)\n",
    "            opinions.append((target_entity, aspect, sentiment))\n",
    "        ret.append((sent_id, text, opinions))\n",
    "        \n",
    "        \n",
    "df=pd.DataFrame(ret, columns=[\"id\", \"text\", \"sentiment\"])\n",
    "\n",
    "print(\"df shape from json: \", df.shape)\n",
    "\n",
    "text_id=[]\n",
    "text=[]\n",
    "sentiments=[]\n",
    "for i in range(len(df)):\n",
    "    len_present=len(df['sentiment'][i])\n",
    "    for j in range(len_present):\n",
    "        text_id.append(df['id'][i])\n",
    "        text.append(df['text'][i])\n",
    "        sentiments.append(df['sentiment'][i][j])\n",
    "\n",
    "test=pd.DataFrame({\"id\":text_id, \"text\":text, \"sentiment\":sentiments})\n",
    "test['location']=test['sentiment'].apply(lambda x: x[0])\n",
    "test['aspect']=test['sentiment'].apply(lambda x: x[1])\n",
    "test['polarity']=test['sentiment'].apply(lambda x: x[2])\n",
    "print(\"df shape after distinguishing dev set : \", test.shape)"
   ]
  },
  {
   "cell_type": "code",
   "execution_count": 44,
   "metadata": {},
   "outputs": [
    {
     "data": {
      "text/plain": [
       "<matplotlib.axes._subplots.AxesSubplot at 0x1dad1eebe10>"
      ]
     },
     "execution_count": 44,
     "metadata": {},
     "output_type": "execute_result"
    },
    {
     "data": {
      "image/png": "[encoded data removed]",
      "text/plain": [
       "<Figure size 432x288 with 1 Axes>"
      ]
     },
     "metadata": {},
     "output_type": "display_data"
    }
   ],
   "source": [
    "test['aspect'].value_counts().plot.bar()"
   ]
  },
  {
   "cell_type": "code",
   "execution_count": 45,
   "metadata": {},
   "outputs": [
    {
     "data": {
      "text/plain": [
       "<matplotlib.axes._subplots.AxesSubplot at 0x1dad1dc36a0>"
      ]
     },
     "execution_count": 45,
     "metadata": {},
     "output_type": "execute_result"
    },
    {
     "data": {
      "image/png": "[encoded data removed]",
      "text/plain": [
       "<Figure size 432x288 with 1 Axes>"
      ]
     },
     "metadata": {},
     "output_type": "display_data"
    }
   ],
   "source": [
    "test['location'].value_counts().plot.bar()"
   ]
  },
  {
   "cell_type": "code",
   "execution_count": 46,
   "metadata": {},
   "outputs": [
    {
     "data": {
      "text/plain": [
       "Positive    1215\n",
       "Negative     462\n",
       "Name: polarity, dtype: int64"
      ]
     },
     "execution_count": 46,
     "metadata": {},
     "output_type": "execute_result"
    }
   ],
   "source": [
    "test['polarity'].value_counts()"
   ]
  },
  {
   "cell_type": "code",
   "execution_count": null,
   "metadata": {},
   "outputs": [],
   "source": []
  }
 ],
 "metadata": {
  "kernelspec": {
   "display_name": "Python 3",
   "language": "python",
   "name": "python3"
  },
  "language_info": {
   "codemirror_mode": {
    "name": "ipython",
    "version": 3
   },
   "file_extension": ".py",
   "mimetype": "text/x-python",
   "name": "python",
   "nbconvert_exporter": "python",
   "pygments_lexer": "ipython3",
   "version": "3.6.5"
  }
 },
 "nbformat": 4,
 "nbformat_minor": 2
}
